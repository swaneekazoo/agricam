{
 "cells": [
  {
   "cell_type": "code",
   "execution_count": 9,
   "metadata": {
    "collapsed": true
   },
   "outputs": [],
   "source": [
    "import os\n",
    "from random import seed, random\n",
    "from os import makedirs, listdir\n",
    "from os.path import exists, isdir\n",
    "import random\n",
    "import argparse\n",
    "import subprocess\n",
    "\n",
    "import torch\n",
    "from cv2 import imwrite\n",
    "\n",
    "FRAMES_ONSCREEN = 227.3\n",
    "FRAME_RATE = 25\n",
    "FPS = 2\n",
    "TIME_ONSCREEN = (FRAMES_ONSCREEN / FRAME_RATE) * FPS"
   ]
  },
  {
   "cell_type": "code",
   "execution_count": 10,
   "outputs": [],
   "source": [
    "def concat_video(src: str):\n",
    "    files = sorted((f for f in listdir(src) if not f.startswith(\".\") and f.endswith('.mp4')), key=str.lower)\n",
    "    print(files)\n",
    "\n",
    "    exists(f'{src}/video.mp4') and os.remove(f'{src}/video.mp4')\n",
    "    exists(f'{src}/videos.txt') and os.remove(f'{src}/videos.txt')\n",
    "    with open(f'{src}/videos.txt', 'w') as txt_file:\n",
    "        for i, f in enumerate(files):\n",
    "            txt_file.write(f\"file '{src}/{f}'\\n\")\n",
    "    subprocess.run(args=[f'ffmpeg', '-f', 'concat', '-safe', '0', '-i', f'{src}/videos.txt', '-c', 'copy', f'{src}/video.mp4'])"
   ],
   "metadata": {
    "collapsed": false
   }
  },
  {
   "cell_type": "code",
   "execution_count": 11,
   "outputs": [],
   "source": [
    "def video_to_frames(video_src: str, src: str):\n",
    "    makedirs(f'{src}/frames', exist_ok=True)\n",
    "    subprocess.run(args=['ffmpeg', '-i', f'{video_src}', '-vf', f'fps={FPS}', f'{src}/frames/%03d.png'])"
   ],
   "metadata": {
    "collapsed": false
   }
  },
  {
   "cell_type": "code",
   "execution_count": 12,
   "outputs": [],
   "source": [
    "def frames_to_dataset(frames_src: str, dest: str, test_split: float):\n",
    "    cow_num = 0\n",
    "    seed(0)\n",
    "    frames = sorted((f for f in listdir(frames_src) if not f.startswith(\".\") and not isdir(f'{frames_src}/{f}')), key=str.lower)\n",
    "    for i, frame in enumerate(frames):\n",
    "        subset = random.random()\n",
    "        faces = frame_to_faces(frame)\n",
    "        if i % round(TIME_ONSCREEN) == 0:\n",
    "            cow_num += 1\n",
    "            print(f'Cow {cow_num}')\n",
    "            makedirs(f'{dest}/train/cow{cow_num}', exist_ok=True)\n",
    "            makedirs(f'{dest}/test/cow{cow_num}', exist_ok=True)\n",
    "        if subset < 1 - test_split:\n",
    "            # copy(f'{frames_src}/{frame}', f'{dest}/train/cow{cow_num}')  # Copy image to the appropriate directory\n",
    "            for img in faces:\n",
    "                imwrite(img, f'{dest}/train/cow{cow_num}')  # Write cow face to the appropriate directory\n",
    "        else:\n",
    "            # copy(f'{frames_src}/{frame}', f'{dest}/test/cow{cow_num}')  # Copy image to the appropriate directory\n",
    "            for img in faces:\n",
    "                imwrite(img, f'{dest}/test/cow{cow_num}')  # Write cow face to the appropriate directory"
   ],
   "metadata": {
    "collapsed": false
   }
  },
  {
   "cell_type": "code",
   "execution_count": 13,
   "outputs": [],
   "source": [
    "def frame_to_faces(frame):\n",
    "    # Model\n",
    "    model = torch.hub.load(repo_or_dir='ultralytics/yolov5', model='custom', path='best.pt')\n",
    "    for f in os.listdir('/Users/adam/git/agricam/data/video/clean thermal/norm/frames'):\n",
    "        # Images\n",
    "        img = f'/Users/adam/git/agricam/data/video/clean thermal/norm/frames/{f}'\n",
    "        # Inference\n",
    "        results = model(img)\n",
    "        # Results\n",
    "        crops = results.crop()  # or .show(), .save(), .crop(), .pandas(), etc.\n",
    "        faces = []\n",
    "        for c in crops:\n",
    "            faces.append(c.get('im'))\n",
    "\n",
    "    return faces"
   ],
   "metadata": {
    "collapsed": false
   }
  },
  {
   "cell_type": "code",
   "execution_count": 14,
   "outputs": [
    {
     "name": "stderr",
     "output_type": "stream",
     "text": [
      "Using cache found in /Users/adam/.cache/torch/hub/ultralytics_yolov5_master\n",
      "YOLOv5 🚀 2022-9-4 Python-3.9.13 torch-1.12.1 CPU\n",
      "\n",
      "Fusing layers... \n",
      "Model summary: 267 layers, 46108278 parameters, 0 gradients, 107.6 GFLOPs\n",
      "Adding AutoShape... \n",
      "Saved 1 image to \u001B[1mruns/detect/exp\u001B[0m\n",
      "Saved results to runs/detect/exp\n",
      "\n",
      "Saved 1 image to \u001B[1mruns/detect/exp2\u001B[0m\n",
      "Saved results to runs/detect/exp2\n",
      "\n",
      "Saved 1 image to \u001B[1mruns/detect/exp3\u001B[0m\n",
      "Saved results to runs/detect/exp3\n",
      "\n",
      "Saved 1 image to \u001B[1mruns/detect/exp4\u001B[0m\n",
      "Saved results to runs/detect/exp4\n",
      "\n",
      "Saved 1 image to \u001B[1mruns/detect/exp5\u001B[0m\n",
      "Saved results to runs/detect/exp5\n",
      "\n",
      "Saved 1 image to \u001B[1mruns/detect/exp6\u001B[0m\n",
      "Saved results to runs/detect/exp6\n",
      "\n",
      "Saved 1 image to \u001B[1mruns/detect/exp7\u001B[0m\n",
      "Saved results to runs/detect/exp7\n",
      "\n",
      "Saved 1 image to \u001B[1mruns/detect/exp8\u001B[0m\n",
      "Saved results to runs/detect/exp8\n",
      "\n",
      "Saved 1 image to \u001B[1mruns/detect/exp9\u001B[0m\n",
      "Saved results to runs/detect/exp9\n",
      "\n",
      "Saved 1 image to \u001B[1mruns/detect/exp10\u001B[0m\n",
      "Saved results to runs/detect/exp10\n",
      "\n",
      "Saved 1 image to \u001B[1mruns/detect/exp11\u001B[0m\n",
      "Saved results to runs/detect/exp11\n",
      "\n",
      "Saved 1 image to \u001B[1mruns/detect/exp12\u001B[0m\n",
      "Saved results to runs/detect/exp12\n",
      "\n",
      "Saved 1 image to \u001B[1mruns/detect/exp13\u001B[0m\n",
      "Saved results to runs/detect/exp13\n",
      "\n",
      "Saved 1 image to \u001B[1mruns/detect/exp14\u001B[0m\n",
      "Saved results to runs/detect/exp14\n",
      "\n",
      "Saved 1 image to \u001B[1mruns/detect/exp15\u001B[0m\n",
      "Saved results to runs/detect/exp15\n",
      "\n",
      "Saved 1 image to \u001B[1mruns/detect/exp16\u001B[0m\n",
      "Saved results to runs/detect/exp16\n",
      "\n",
      "Saved 1 image to \u001B[1mruns/detect/exp17\u001B[0m\n",
      "Saved results to runs/detect/exp17\n",
      "\n",
      "Saved 1 image to \u001B[1mruns/detect/exp18\u001B[0m\n",
      "Saved results to runs/detect/exp18\n",
      "\n",
      "Saved 1 image to \u001B[1mruns/detect/exp19\u001B[0m\n",
      "Saved results to runs/detect/exp19\n",
      "\n",
      "Saved 1 image to \u001B[1mruns/detect/exp20\u001B[0m\n",
      "Saved results to runs/detect/exp20\n",
      "\n",
      "Saved 1 image to \u001B[1mruns/detect/exp21\u001B[0m\n",
      "Saved results to runs/detect/exp21\n",
      "\n",
      "Saved 1 image to \u001B[1mruns/detect/exp22\u001B[0m\n",
      "Saved results to runs/detect/exp22\n",
      "\n",
      "Saved 1 image to \u001B[1mruns/detect/exp23\u001B[0m\n",
      "Saved results to runs/detect/exp23\n",
      "\n",
      "Saved 1 image to \u001B[1mruns/detect/exp24\u001B[0m\n",
      "Saved results to runs/detect/exp24\n",
      "\n",
      "Saved 1 image to \u001B[1mruns/detect/exp25\u001B[0m\n",
      "Saved results to runs/detect/exp25\n",
      "\n",
      "Saved 1 image to \u001B[1mruns/detect/exp26\u001B[0m\n",
      "Saved results to runs/detect/exp26\n",
      "\n"
     ]
    },
    {
     "ename": "KeyboardInterrupt",
     "evalue": "",
     "output_type": "error",
     "traceback": [
      "\u001B[0;31m---------------------------------------------------------------------------\u001B[0m",
      "\u001B[0;31mFileNotFoundError\u001B[0m                         Traceback (most recent call last)",
      "File \u001B[0;32m~/miniforge3/envs/agricam/lib/python3.9/genericpath.py:19\u001B[0m, in \u001B[0;36mexists\u001B[0;34m(path)\u001B[0m\n\u001B[1;32m     18\u001B[0m \u001B[38;5;28;01mtry\u001B[39;00m:\n\u001B[0;32m---> 19\u001B[0m     \u001B[43mos\u001B[49m\u001B[38;5;241;43m.\u001B[39;49m\u001B[43mstat\u001B[49m\u001B[43m(\u001B[49m\u001B[43mpath\u001B[49m\u001B[43m)\u001B[49m\n\u001B[1;32m     20\u001B[0m \u001B[38;5;28;01mexcept\u001B[39;00m (\u001B[38;5;167;01mOSError\u001B[39;00m, \u001B[38;5;167;01mValueError\u001B[39;00m):\n",
      "\u001B[0;31mFileNotFoundError\u001B[0m: [Errno 2] No such file or directory: 'runs/detect/exp27'",
      "\nDuring handling of the above exception, another exception occurred:\n",
      "\u001B[0;31mKeyboardInterrupt\u001B[0m                         Traceback (most recent call last)",
      "Cell \u001B[0;32mIn [14], line 3\u001B[0m\n\u001B[1;32m      1\u001B[0m \u001B[38;5;66;03m# concat_video(\"/Users/adam/Git/agricam/data/video/clean thermal/norm\")\u001B[39;00m\n\u001B[1;32m      2\u001B[0m \u001B[38;5;66;03m# video_to_frames('/Users/adam/Git/agricam/data/video/clean thermal/norm/video.mp4', '/Users/adam/Git/agricam/data/video/clean thermal/norm')\u001B[39;00m\n\u001B[0;32m----> 3\u001B[0m \u001B[43mframes_to_dataset\u001B[49m\u001B[43m(\u001B[49m\u001B[38;5;124;43m'\u001B[39;49m\u001B[38;5;124;43m/Users/adam/Git/agricam/data/video/clean thermal/norm/frames\u001B[39;49m\u001B[38;5;124;43m'\u001B[39;49m\u001B[43m,\u001B[49m\u001B[43m \u001B[49m\u001B[38;5;124;43m'\u001B[39;49m\u001B[38;5;124;43m/Users/adam/Git/agricam/datasets/20210714\u001B[39;49m\u001B[38;5;124;43m'\u001B[39;49m\u001B[43m,\u001B[49m\u001B[43m \u001B[49m\u001B[38;5;241;43m0.3\u001B[39;49m\u001B[43m)\u001B[49m\n",
      "Cell \u001B[0;32mIn [12], line 7\u001B[0m, in \u001B[0;36mframes_to_dataset\u001B[0;34m(frames_src, dest, test_split)\u001B[0m\n\u001B[1;32m      5\u001B[0m \u001B[38;5;28;01mfor\u001B[39;00m i, frame \u001B[38;5;129;01min\u001B[39;00m \u001B[38;5;28menumerate\u001B[39m(frames):\n\u001B[1;32m      6\u001B[0m     subset \u001B[38;5;241m=\u001B[39m random\u001B[38;5;241m.\u001B[39mrandom()\n\u001B[0;32m----> 7\u001B[0m     faces \u001B[38;5;241m=\u001B[39m \u001B[43mframe_to_faces\u001B[49m\u001B[43m(\u001B[49m\u001B[43mframe\u001B[49m\u001B[43m)\u001B[49m\n\u001B[1;32m      8\u001B[0m     \u001B[38;5;28;01mif\u001B[39;00m i \u001B[38;5;241m%\u001B[39m \u001B[38;5;28mround\u001B[39m(TIME_ONSCREEN) \u001B[38;5;241m==\u001B[39m \u001B[38;5;241m0\u001B[39m:\n\u001B[1;32m      9\u001B[0m         cow_num \u001B[38;5;241m+\u001B[39m\u001B[38;5;241m=\u001B[39m \u001B[38;5;241m1\u001B[39m\n",
      "Cell \u001B[0;32mIn [13], line 10\u001B[0m, in \u001B[0;36mframe_to_faces\u001B[0;34m(frame)\u001B[0m\n\u001B[1;32m      8\u001B[0m results \u001B[38;5;241m=\u001B[39m model(img)\n\u001B[1;32m      9\u001B[0m \u001B[38;5;66;03m# Results\u001B[39;00m\n\u001B[0;32m---> 10\u001B[0m crops \u001B[38;5;241m=\u001B[39m \u001B[43mresults\u001B[49m\u001B[38;5;241;43m.\u001B[39;49m\u001B[43mcrop\u001B[49m\u001B[43m(\u001B[49m\u001B[43m)\u001B[49m  \u001B[38;5;66;03m# or .show(), .save(), .crop(), .pandas(), etc.\u001B[39;00m\n\u001B[1;32m     11\u001B[0m faces \u001B[38;5;241m=\u001B[39m []\n\u001B[1;32m     12\u001B[0m \u001B[38;5;28;01mfor\u001B[39;00m c \u001B[38;5;129;01min\u001B[39;00m crops:\n",
      "File \u001B[0;32m~/.cache/torch/hub/ultralytics_yolov5_master/models/common.py:730\u001B[0m, in \u001B[0;36mDetections.crop\u001B[0;34m(self, save, save_dir)\u001B[0m\n\u001B[1;32m    729\u001B[0m \u001B[38;5;28;01mdef\u001B[39;00m \u001B[38;5;21mcrop\u001B[39m(\u001B[38;5;28mself\u001B[39m, save\u001B[38;5;241m=\u001B[39m\u001B[38;5;28;01mTrue\u001B[39;00m, save_dir\u001B[38;5;241m=\u001B[39m\u001B[38;5;124m'\u001B[39m\u001B[38;5;124mruns/detect/exp\u001B[39m\u001B[38;5;124m'\u001B[39m):\n\u001B[0;32m--> 730\u001B[0m     save_dir \u001B[38;5;241m=\u001B[39m \u001B[43mincrement_path\u001B[49m\u001B[43m(\u001B[49m\u001B[43msave_dir\u001B[49m\u001B[43m,\u001B[49m\u001B[43m \u001B[49m\u001B[43mexist_ok\u001B[49m\u001B[38;5;241;43m=\u001B[39;49m\u001B[43msave_dir\u001B[49m\u001B[43m \u001B[49m\u001B[38;5;241;43m!=\u001B[39;49m\u001B[43m \u001B[49m\u001B[38;5;124;43m'\u001B[39;49m\u001B[38;5;124;43mruns/detect/exp\u001B[39;49m\u001B[38;5;124;43m'\u001B[39;49m\u001B[43m,\u001B[49m\u001B[43m \u001B[49m\u001B[43mmkdir\u001B[49m\u001B[38;5;241;43m=\u001B[39;49m\u001B[38;5;28;43;01mTrue\u001B[39;49;00m\u001B[43m)\u001B[49m \u001B[38;5;28;01mif\u001B[39;00m save \u001B[38;5;28;01melse\u001B[39;00m \u001B[38;5;28;01mNone\u001B[39;00m\n\u001B[1;32m    731\u001B[0m     \u001B[38;5;28;01mreturn\u001B[39;00m \u001B[38;5;28mself\u001B[39m\u001B[38;5;241m.\u001B[39mdisplay(crop\u001B[38;5;241m=\u001B[39m\u001B[38;5;28;01mTrue\u001B[39;00m, save\u001B[38;5;241m=\u001B[39msave, save_dir\u001B[38;5;241m=\u001B[39msave_dir)\n",
      "File \u001B[0;32m~/.cache/torch/hub/ultralytics_yolov5_master/utils/general.py:1004\u001B[0m, in \u001B[0;36mincrement_path\u001B[0;34m(path, exist_ok, sep, mkdir)\u001B[0m\n\u001B[1;32m   1002\u001B[0m \u001B[38;5;28;01mfor\u001B[39;00m n \u001B[38;5;129;01min\u001B[39;00m \u001B[38;5;28mrange\u001B[39m(\u001B[38;5;241m2\u001B[39m, \u001B[38;5;241m9999\u001B[39m):\n\u001B[1;32m   1003\u001B[0m     p \u001B[38;5;241m=\u001B[39m \u001B[38;5;124mf\u001B[39m\u001B[38;5;124m'\u001B[39m\u001B[38;5;132;01m{\u001B[39;00mpath\u001B[38;5;132;01m}\u001B[39;00m\u001B[38;5;132;01m{\u001B[39;00msep\u001B[38;5;132;01m}\u001B[39;00m\u001B[38;5;132;01m{\u001B[39;00mn\u001B[38;5;132;01m}\u001B[39;00m\u001B[38;5;132;01m{\u001B[39;00msuffix\u001B[38;5;132;01m}\u001B[39;00m\u001B[38;5;124m'\u001B[39m  \u001B[38;5;66;03m# increment path\u001B[39;00m\n\u001B[0;32m-> 1004\u001B[0m     \u001B[38;5;28;01mif\u001B[39;00m \u001B[38;5;129;01mnot\u001B[39;00m \u001B[43mos\u001B[49m\u001B[38;5;241;43m.\u001B[39;49m\u001B[43mpath\u001B[49m\u001B[38;5;241;43m.\u001B[39;49m\u001B[43mexists\u001B[49m\u001B[43m(\u001B[49m\u001B[43mp\u001B[49m\u001B[43m)\u001B[49m:  \u001B[38;5;66;03m#\u001B[39;00m\n\u001B[1;32m   1005\u001B[0m         \u001B[38;5;28;01mbreak\u001B[39;00m\n\u001B[1;32m   1006\u001B[0m path \u001B[38;5;241m=\u001B[39m Path(p)\n",
      "File \u001B[0;32m~/miniforge3/envs/agricam/lib/python3.9/genericpath.py:19\u001B[0m, in \u001B[0;36mexists\u001B[0;34m(path)\u001B[0m\n\u001B[1;32m     17\u001B[0m \u001B[38;5;124;03m\"\"\"Test whether a path exists.  Returns False for broken symbolic links\"\"\"\u001B[39;00m\n\u001B[1;32m     18\u001B[0m \u001B[38;5;28;01mtry\u001B[39;00m:\n\u001B[0;32m---> 19\u001B[0m     \u001B[43mos\u001B[49m\u001B[38;5;241;43m.\u001B[39;49m\u001B[43mstat\u001B[49m\u001B[43m(\u001B[49m\u001B[43mpath\u001B[49m\u001B[43m)\u001B[49m\n\u001B[1;32m     20\u001B[0m \u001B[38;5;28;01mexcept\u001B[39;00m (\u001B[38;5;167;01mOSError\u001B[39;00m, \u001B[38;5;167;01mValueError\u001B[39;00m):\n\u001B[1;32m     21\u001B[0m     \u001B[38;5;28;01mreturn\u001B[39;00m \u001B[38;5;28;01mFalse\u001B[39;00m\n",
      "\u001B[0;31mKeyboardInterrupt\u001B[0m: "
     ]
    }
   ],
   "source": [
    "# concat_video(\"/Users/adam/Git/agricam/data/video/clean thermal/norm\")\n",
    "# video_to_frames('/Users/adam/Git/agricam/data/video/clean thermal/norm/video.mp4', '/Users/adam/Git/agricam/data/video/clean thermal/norm')\n",
    "frames_to_dataset('/Users/adam/Git/agricam/data/video/clean thermal/norm/frames', '/Users/adam/Git/agricam/datasets/20210714', 0.3)"
   ],
   "metadata": {
    "collapsed": false
   }
  }
 ],
 "metadata": {
  "kernelspec": {
   "display_name": "Python 3",
   "language": "python",
   "name": "python3"
  },
  "language_info": {
   "codemirror_mode": {
    "name": "ipython",
    "version": 2
   },
   "file_extension": ".py",
   "mimetype": "text/x-python",
   "name": "python",
   "nbconvert_exporter": "python",
   "pygments_lexer": "ipython2",
   "version": "2.7.6"
  }
 },
 "nbformat": 4,
 "nbformat_minor": 0
}
