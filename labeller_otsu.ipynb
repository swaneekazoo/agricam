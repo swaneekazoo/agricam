{
 "cells": [
  {
   "cell_type": "markdown",
   "metadata": {
    "id": "xYWnsGgF3das",
    "pycharm": {
     "name": "#%% md\n"
    }
   },
   "source": [
    "# Auto-labeller (Otsu)"
   ]
  },
  {
   "cell_type": "code",
   "execution_count": 8,
   "metadata": {
    "id": "p-BXt7gXsnZT",
    "pycharm": {
     "name": "#%%\n"
    }
   },
   "outputs": [],
   "source": [
    "import os\n",
    "import cv2\n",
    "import numpy as np\n",
    "from matplotlib import pyplot as plt"
   ]
  },
  {
   "cell_type": "code",
   "execution_count": 9,
   "metadata": {
    "id": "Bviu9FctdUVX",
    "pycharm": {
     "name": "#%%\n"
    }
   },
   "outputs": [
    {
     "name": "stderr",
     "output_type": "stream",
     "text": [
      "[ WARN:0@330.992] global /Users/runner/miniforge3/conda-bld/libopencv_1658893788286/work/modules/imgcodecs/src/loadsave.cpp (239) findDecoder imread_('data/pictures/05.08.22/thermal/0b2b93c22bd01ac28d8624e0abbc582d-2.jpg'): can't open/read file: check file path/integrity\n"
     ]
    }
   ],
   "source": [
    "# Random image\n",
    "img = cv2.imread('data/pictures/05.08.22/thermal/0b2b93c22bd01ac28d8624e0abbc582d-2.jpg',0)"
   ]
  },
  {
   "cell_type": "code",
   "execution_count": 10,
   "metadata": {
    "colab": {
     "base_uri": "https://localhost:8080/",
     "height": 832
    },
    "id": "2frLs9xEdUVY",
    "outputId": "5e4f2893-13ad-4554-d6a1-6e7839985b9b",
    "pycharm": {
     "name": "#%%\n"
    }
   },
   "outputs": [
    {
     "ename": "error",
     "evalue": "OpenCV(4.6.0) /Users/runner/miniforge3/conda-bld/libopencv_1658893788286/work/modules/imgproc/src/smooth.dispatch.cpp:617: error: (-215:Assertion failed) !_src.empty() in function 'GaussianBlur'\n",
     "output_type": "error",
     "traceback": [
      "\u001B[0;31m---------------------------------------------------------------------------\u001B[0m",
      "\u001B[0;31merror\u001B[0m                                     Traceback (most recent call last)",
      "Cell \u001B[0;32mIn [10], line 6\u001B[0m\n\u001B[1;32m      4\u001B[0m ret2,th2 \u001B[38;5;241m=\u001B[39m cv2\u001B[38;5;241m.\u001B[39mthreshold(img,\u001B[38;5;241m0\u001B[39m,\u001B[38;5;241m255\u001B[39m,cv2\u001B[38;5;241m.\u001B[39mTHRESH_BINARY\u001B[38;5;241m+\u001B[39mcv2\u001B[38;5;241m.\u001B[39mTHRESH_OTSU)\n\u001B[1;32m      5\u001B[0m \u001B[38;5;66;03m# Otsu's thresholding after Gaussian filtering\u001B[39;00m\n\u001B[0;32m----> 6\u001B[0m blur \u001B[38;5;241m=\u001B[39m \u001B[43mcv2\u001B[49m\u001B[38;5;241;43m.\u001B[39;49m\u001B[43mGaussianBlur\u001B[49m\u001B[43m(\u001B[49m\u001B[43mimg\u001B[49m\u001B[43m,\u001B[49m\u001B[43m(\u001B[49m\u001B[38;5;241;43m5\u001B[39;49m\u001B[43m,\u001B[49m\u001B[38;5;241;43m5\u001B[39;49m\u001B[43m)\u001B[49m\u001B[43m,\u001B[49m\u001B[38;5;241;43m0\u001B[39;49m\u001B[43m)\u001B[49m\n\u001B[1;32m      7\u001B[0m ret3,th3 \u001B[38;5;241m=\u001B[39m cv2\u001B[38;5;241m.\u001B[39mthreshold(blur,\u001B[38;5;241m0\u001B[39m,\u001B[38;5;241m255\u001B[39m,cv2\u001B[38;5;241m.\u001B[39mTHRESH_BINARY\u001B[38;5;241m+\u001B[39mcv2\u001B[38;5;241m.\u001B[39mTHRESH_OTSU)\n\u001B[1;32m      8\u001B[0m \u001B[38;5;66;03m# plot all the images and their histograms\u001B[39;00m\n",
      "\u001B[0;31merror\u001B[0m: OpenCV(4.6.0) /Users/runner/miniforge3/conda-bld/libopencv_1658893788286/work/modules/imgproc/src/smooth.dispatch.cpp:617: error: (-215:Assertion failed) !_src.empty() in function 'GaussianBlur'\n"
     ]
    }
   ],
   "source": [
    "# global thresholding\n",
    "ret1,th1 = cv2.threshold(img,127,255,cv2.THRESH_BINARY)\n",
    "# Otsu's thresholding\n",
    "ret2,th2 = cv2.threshold(img,0,255,cv2.THRESH_BINARY+cv2.THRESH_OTSU)\n",
    "# Otsu's thresholding after Gaussian filtering\n",
    "blur = cv2.GaussianBlur(img,(5,5),0)\n",
    "ret3,th3 = cv2.threshold(blur,0,255,cv2.THRESH_BINARY+cv2.THRESH_OTSU)\n",
    "# plot all the images and their histograms\n",
    "images = [img, 0, th1,\n",
    "          img, 0, th2,\n",
    "          blur, 0, th3]\n",
    "titles = ['Original Noisy Image','Histogram','Global Thresholding (v=127)',\n",
    "          'Original Noisy Image','Histogram',\"Otsu's Thresholding\",\n",
    "          'Gaussian filtered Image','Histogram',\"Otsu's Thresholding\"]\n",
    "plt.figure(num=1, figsize=(20,20), dpi=80)\n",
    "for i in range(3):\n",
    "    plt.subplot(3,3,i*3+1),plt.imshow(images[i*3],'gray')\n",
    "    plt.title(titles[i*3]), plt.xticks([]), plt.yticks([])\n",
    "    plt.subplot(3,3,i*3+2),plt.hist(images[i*3].ravel(),256)\n",
    "    plt.title(titles[i*3+1]), plt.xticks([]), plt.yticks([])\n",
    "    plt.subplot(3,3,i*3+3),plt.imshow(images[i*3+2],'gray')\n",
    "    plt.title(titles[i*3+2]), plt.xticks([]), plt.yticks([])\n",
    "plt.show()"
   ]
  },
  {
   "cell_type": "code",
   "execution_count": null,
   "metadata": {
    "colab": {
     "base_uri": "https://localhost:8080/",
     "height": 173
    },
    "id": "6BmFaQqHdUVZ",
    "outputId": "a14f352f-2df2-4937-9220-459ca55c93e0",
    "pycharm": {
     "name": "#%%\n"
    }
   },
   "outputs": [],
   "source": [
    "# Generate intermediate image; use morphological closing to keep parts of the cow together\n",
    "inter = cv2.morphologyEx(th3, cv2.MORPH_CLOSE, cv2.getStructuringElement(cv2.MORPH_ELLIPSE, (5, 5)))\n",
    "\n",
    "# Find largest contour in intermediate image\n",
    "cnts, _ = cv2.findContours(inter, cv2.RETR_EXTERNAL, cv2.CHAIN_APPROX_NONE)\n",
    "cnts = sorted(cnts, key=lambda x: cv2.contourArea(x), reverse=True)\n",
    "cnt = cnts[0]\n",
    "cnt2 = cnts[1]\n",
    "\n",
    "# Output\n",
    "out = np.zeros(img.shape, np.uint8)\n",
    "cv2.drawContours(out, [cnt, cnt2], -1, 255, cv2.FILLED)\n",
    "out = cv2.bitwise_and(img, out)\n",
    "\n",
    "# Draw bounding boxes for 2 largest contours\n",
    "x,y,w,h = cv2.boundingRect(cnt)\n",
    "cv2.rectangle(out,(x,y),(x+w,y+h),(255,255,255),2)\n",
    "x,y,w,h = cv2.boundingRect(cnt2)\n",
    "cv2.rectangle(out,(x,y),(x+w,y+h),(255,255,255),2)\n",
    "\n",
    "# Show original image, Otsu binary image, and 2 largest areas of foreground\n",
    "plt.figure(num=1, figsize=(20,20))\n",
    "plt.subplot(1,3,1),plt.imshow(img,'gray')\n",
    "plt.subplot(1,3,2),plt.imshow(inter,'gray')\n",
    "plt.subplot(1,3,3),plt.imshow(out,'gray')\n",
    "plt.show()"
   ]
  },
  {
   "cell_type": "code",
   "execution_count": null,
   "metadata": {
    "colab": {
     "base_uri": "https://localhost:8080/",
     "height": 1000
    },
    "id": "dNWwaEvDdUVZ",
    "outputId": "541a1c7a-8596-41a7-b6e9-2700b5855ad3",
    "pycharm": {
     "name": "#%%\n"
    }
   },
   "outputs": [],
   "source": [
    "for filename in os.listdir('data/pictures/05.08.22/therm'):\n",
    "    print(filename)\n",
    "    img = cv2.imread(f'data/pictures/05.08.22/therm/{filename}', 0)\n",
    "    img_width = img.shape[0]\n",
    "    img_height = img.shape[1]\n",
    "    print(f'w:{img_width} h:{img_height}')\n",
    "\n",
    "    # blur = cv2.GaussianBlur(img,(5,5),0)\n",
    "    # ret,th = cv2.threshold(blur,0,255,cv2.THRESH_BINARY+cv2.THRESH_OTSU)\n",
    "    #\n",
    "    # # Generate intermediate image; use morphological closing to keep parts of the cow together\n",
    "    # inter = cv2.morphologyEx(th, cv2.MORPH_CLOSE, cv2.getStructuringElement(cv2.MORPH_ELLIPSE, (5, 5)))\n",
    "    #\n",
    "    # # Find 2 largest contours in intermediate image\n",
    "    # cnts, _ = cv2.findContours(inter, cv2.RETR_EXTERNAL, cv2.CHAIN_APPROX_NONE)\n",
    "    # cnts = sorted(cnts, key=lambda c: cv2.contourArea(c), reverse=True)\n",
    "    # cnts = cnts[:1]\n",
    "    #\n",
    "    # # Output\n",
    "    # out = np.zeros(img.shape, np.uint8)\n",
    "    # cv2.drawContours(out, cnts, -1, 255, cv2.FILLED)\n",
    "    # out = cv2.bitwise_and(img, out)\n",
    "    #\n",
    "    # with open(filename + '.txt', 'w') as text_file:\n",
    "    #     for cnt in cnts:\n",
    "    #         x,y,w,h = cv2.boundingRect(cnt)\n",
    "    #         cv2.rectangle(out,(x,y),(x+w,y+h),(255,255,255),2)\n",
    "    #         text_file.write(f'0 {x} {y} {w} {h}')\n",
    "    #         plt.imshow(out)\n",
    "    #         plt.show()\n",
    "\n"
   ]
  }
 ],
 "metadata": {
  "accelerator": "GPU",
  "colab": {
   "collapsed_sections": [],
   "name": "otsu.ipynb",
   "provenance": []
  },
  "kernelspec": {
   "display_name": "Python 3.9.12 ('agricam')",
   "language": "python",
   "name": "python3"
  },
  "language_info": {
   "codemirror_mode": {
    "name": "ipython",
    "version": 3
   },
   "file_extension": ".py",
   "mimetype": "text/x-python",
   "name": "python",
   "nbconvert_exporter": "python",
   "pygments_lexer": "ipython3",
   "version": "3.9.12"
  },
  "vscode": {
   "interpreter": {
    "hash": "aba568ba265abf8c2cd0a1cfe823f38b5da7bc094ecfa8ad23e48798aa907658"
   }
  }
 },
 "nbformat": 4,
 "nbformat_minor": 1
}