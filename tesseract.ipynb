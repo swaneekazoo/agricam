{
 "cells": [
  {
   "cell_type": "code",
   "execution_count": 6,
   "metadata": {
    "collapsed": true,
    "pycharm": {
     "name": "#%%\n"
    }
   },
   "outputs": [],
   "source": [
    "import cv2\n",
    "from pytesseract import image_to_string, image_to_boxes"
   ]
  },
  {
   "cell_type": "code",
   "execution_count": 7,
   "metadata": {
    "collapsed": false,
    "pycharm": {
     "name": "#%%\n"
    }
   },
   "outputs": [],
   "source": [
    "def get_text_(filename):\n",
    "    # Read image\n",
    "    img = cv2.imread(filename)\n",
    "    img_rgb = cv2.cvtColor(img, cv2.COLOR_BGR2RGB)\n",
    "\n",
    "    # Print bounding boxes & return text\n",
    "    print(image_to_boxes(img_rgb))\n",
    "    txt = image_to_string(img_rgb)\n",
    "    return txt"
   ]
  },
  {
   "cell_type": "code",
   "execution_count": 8,
   "metadata": {
    "collapsed": false,
    "pycharm": {
     "name": "#%%\n"
    }
   },
   "outputs": [],
   "source": [
    "def get_text(filename):\n",
    "    # Read image\n",
    "    img = cv2.imread(filename)\n",
    "\n",
    "    # OpenCV\n",
    "    HSV_img = cv2.cvtColor(img,cv2.COLOR_BGR2HSV)\n",
    "    h,s,v = cv2.split(HSV_img)\n",
    "    v = cv2.GaussianBlur(v, (1,1), 0)\n",
    "    thresh = cv2.threshold(v, 0, 255, cv2.THRESH_BINARY_INV + cv2.THRESH_OTSU)[1]\n",
    "    cv2.imwrite('{}.png'.format(filename),thresh)\n",
    "    kernel = cv2.getStructuringElement(cv2.MORPH_RECT, ksize=(1, 1))\n",
    "    thresh = cv2.dilate(thresh, kernel)\n",
    "    cv2.imwrite('{}.png'.format(filename),thresh)\n",
    "\n",
    "    # Print bounding boxes & return text\n",
    "    print(image_to_boxes(thresh))\n",
    "    txt = image_to_string(thresh)\n",
    "    return txt"
   ]
  },
  {
   "cell_type": "code",
   "execution_count": 9,
   "metadata": {
    "collapsed": false,
    "pycharm": {
     "name": "#%%\n"
    }
   },
   "outputs": [
    {
     "name": "stdout",
     "output_type": "stream",
     "text": [
      "j 220 1442 222 1452 0\n",
      "i 244 1459 258 1515 0\n",
      "i 276 1427 307 1520 0\n",
      "h 318 1445 330 1520 0\n",
      "s 524 1443 546 1462 0\n",
      "o 560 1441 651 1475 0\n",
      "e 656 1455 800 1506 0\n",
      "‘ 819 1463 827 1473 0\n",
      "e 835 1445 914 1515 0\n",
      "i 916 1516 918 1518 0\n",
      "W 218 1407 288 1431 0\n",
      "P 294 1367 356 1452 0\n",
      "W 411 1364 444 1430 0\n",
      "e 444 1378 476 1433 0\n",
      "d 476 1383 508 1430 0\n",
      "1 671 1388 672 1428 0\n",
      "2 671 1388 672 1428 0\n",
      ": 671 1388 672 1428 0\n",
      "3 671 1388 672 1428 0\n",
      "2 671 1388 712 1428 0\n",
      ": 703 1388 738 1428 0\n",
      "0 714 1388 764 1428 0\n",
      "4 776 1388 800 1416 0\n",
      "M 885 1417 886 1430 0\n",
      "e 885 1417 923 1430 0\n",
      "~ 0 0 2688 1520 0\n",
      "\n",
      "1: \n",
      " ji ih soe ‘ei\n",
      "WP Wed 12:32:04 Me\n",
      "\n",
      "\n",
      "c 1464 0 1473 0 0\n",
      "o 1473 0 1485 0 0\n",
      "r 1485 0 1495 0 0\n",
      "s 1484 0 1520 0 0\n",
      "e 1506 0 1519 0 0\n",
      "i 48 1348 52 1359 0\n",
      "y 48 1348 56 1359 0\n",
      "a 48 1336 57 1346 0\n",
      "p 49 1323 51 1335 0\n",
      "y 49 1323 58 1335 0\n",
      "3 48 1303 59 1321 0\n",
      "~ 0 0 2688 1520 0\n",
      "~ 1510 24 1535 328 0\n",
      "~ 1510 24 1535 328 0\n",
      "\n",
      "2: \n",
      " corse\n",
      "\n",
      "iy\n",
      "a\n",
      "py\n",
      "3\n",
      "\n",
      "\n",
      "~ 0 0 2688 1520 0\n",
      "~ 14 14 400 17 0\n",
      "~ 31 11 400 18 0\n",
      "\n",
      "3: \n",
      " \n"
     ]
    }
   ],
   "source": [
    "text = get_text('data/tesseract/1.png')\n",
    "print('1: \\n ' + text)\n",
    "text = get_text('data/tesseract/2.png')\n",
    "print('2: \\n ' + text)\n",
    "text = get_text('data/tesseract/3.png')\n",
    "print('3: \\n ' + text)"
   ]
  }
 ],
 "metadata": {
  "kernelspec": {
   "display_name": "Python 3.8.9 64-bit",
   "language": "python",
   "name": "python3"
  },
  "language_info": {
   "codemirror_mode": {
    "name": "ipython",
    "version": 2
   },
   "file_extension": ".py",
   "mimetype": "text/x-python",
   "name": "python",
   "nbconvert_exporter": "python",
   "pygments_lexer": "ipython2",
   "version": "3.8.9"
  },
  "vscode": {
   "interpreter": {
    "hash": "31f2aee4e71d21fbe5cf8b01ff0e069b9275f58929596ceb00d14d90e3e16cd6"
   }
  }
 },
 "nbformat": 4,
 "nbformat_minor": 0
}
