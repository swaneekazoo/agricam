{
 "cells": [
  {
   "cell_type": "markdown",
   "metadata": {
    "id": "SmRtlWmD3msd",
    "pycharm": {
     "name": "#%% md\n"
    }
   },
   "source": [
    "# BFMatcher `cowface` identification"
   ]
  },
  {
   "cell_type": "code",
   "execution_count": 7,
   "metadata": {
    "id": "p-BXt7gXsnZT",
    "pycharm": {
     "name": "#%%\n"
    }
   },
   "outputs": [],
   "source": [
    "import torch\n",
    "import cv2"
   ]
  },
  {
   "cell_type": "code",
   "execution_count": 9,
   "metadata": {
    "colab": {
     "base_uri": "https://localhost:8080/"
    },
    "id": "CF9nGL49YzkS",
    "outputId": "4396c4c7-bbe1-4182-dc98-8d6aec15b886",
    "pycharm": {
     "name": "#%%\n"
    }
   },
   "outputs": [
    {
     "name": "stderr",
     "output_type": "stream",
     "text": [
      "Using cache found in /Users/adam/.cache/torch/hub/ultralytics_yolov5_master\n",
      "YOLOv5 🚀 2022-8-2 Python-3.9.12 torch-1.12.0 CPU\n",
      "\n"
     ]
    },
    {
     "name": "stdout",
     "output_type": "stream",
     "text": [
      "Unexpected exception formatting exception. Falling back to standard exception\n"
     ]
    },
    {
     "name": "stderr",
     "output_type": "stream",
     "text": [
      "Traceback (most recent call last):\n",
      "  File \"/Users/adam/.cache/torch/hub/ultralytics_yolov5_master/hubconf.py\", line 47, in _create\n",
      "    model = DetectMultiBackend(path, device=device, fuse=autoshape)  # detection model\n",
      "  File \"/Users/adam/.cache/torch/hub/ultralytics_yolov5_master/models/common.py\", line 334, in __init__\n",
      "    model = attempt_load(weights if isinstance(weights, list) else w, device=device, inplace=True, fuse=fuse)\n",
      "  File \"/Users/adam/.cache/torch/hub/ultralytics_yolov5_master/models/experimental.py\", line 80, in attempt_load\n",
      "    ckpt = torch.load(attempt_download(w), map_location='cpu')  # load\n",
      "  File \"/Users/adam/anaconda3/envs/pam08/lib/python3.9/site-packages/torch/serialization.py\", line 699, in load\n",
      "    with _open_file_like(f, 'rb') as opened_file:\n",
      "  File \"/Users/adam/anaconda3/envs/pam08/lib/python3.9/site-packages/torch/serialization.py\", line 230, in _open_file_like\n",
      "    return _open_file(name_or_buffer, mode)\n",
      "  File \"/Users/adam/anaconda3/envs/pam08/lib/python3.9/site-packages/torch/serialization.py\", line 211, in __init__\n",
      "    super(_open_file, self).__init__(open(name, mode))\n",
      "FileNotFoundError: [Errno 2] No such file or directory: 'best.pt'\n",
      "\n",
      "During handling of the above exception, another exception occurred:\n",
      "\n",
      "Traceback (most recent call last):\n",
      "  File \"/Users/adam/.cache/torch/hub/ultralytics_yolov5_master/hubconf.py\", line 51, in _create\n",
      "    model = attempt_load(path, device=device, fuse=False)  # arbitrary model\n",
      "  File \"/Users/adam/.cache/torch/hub/ultralytics_yolov5_master/models/experimental.py\", line 80, in attempt_load\n",
      "    ckpt = torch.load(attempt_download(w), map_location='cpu')  # load\n",
      "  File \"/Users/adam/anaconda3/envs/pam08/lib/python3.9/site-packages/torch/serialization.py\", line 699, in load\n",
      "    with _open_file_like(f, 'rb') as opened_file:\n",
      "  File \"/Users/adam/anaconda3/envs/pam08/lib/python3.9/site-packages/torch/serialization.py\", line 230, in _open_file_like\n",
      "    return _open_file(name_or_buffer, mode)\n",
      "  File \"/Users/adam/anaconda3/envs/pam08/lib/python3.9/site-packages/torch/serialization.py\", line 211, in __init__\n",
      "    super(_open_file, self).__init__(open(name, mode))\n",
      "FileNotFoundError: [Errno 2] No such file or directory: 'best.pt'\n",
      "\n",
      "The above exception was the direct cause of the following exception:\n",
      "\n",
      "Traceback (most recent call last):\n",
      "  File \"/Users/adam/anaconda3/envs/pam08/lib/python3.9/site-packages/IPython/core/interactiveshell.py\", line 3398, in run_code\n",
      "    exec(code_obj, self.user_global_ns, self.user_ns)\n",
      "  File \"/var/folders/vp/x2fg_x6j6g3g_jbsfc5y7c8r0000gn/T/ipykernel_13428/1586564843.py\", line 2, in <cell line: 2>\n",
      "    model = torch.hub.load('ultralytics/yolov5', 'custom', path='best.pt')\n",
      "  File \"/Users/adam/anaconda3/envs/pam08/lib/python3.9/site-packages/torch/hub.py\", line 540, in load\n",
      "    model = _load_local(repo_or_dir, model, *args, **kwargs)\n",
      "  File \"/Users/adam/anaconda3/envs/pam08/lib/python3.9/site-packages/torch/hub.py\", line 569, in _load_local\n",
      "    model = entry(*args, **kwargs)\n",
      "  File \"/Users/adam/.cache/torch/hub/ultralytics_yolov5_master/hubconf.py\", line 74, in custom\n",
      "    return _create(path, autoshape=autoshape, verbose=_verbose, device=device)\n",
      "  File \"/Users/adam/.cache/torch/hub/ultralytics_yolov5_master/hubconf.py\", line 69, in _create\n",
      "    raise Exception(s) from e\n",
      "Exception: [Errno 2] No such file or directory: 'best.pt'. Cache may be out of date, try `force_reload=True` or see https://github.com/ultralytics/yolov5/issues/36 for help.\n",
      "\n",
      "During handling of the above exception, another exception occurred:\n",
      "\n",
      "Traceback (most recent call last):\n",
      "  File \"/Users/adam/anaconda3/envs/pam08/lib/python3.9/site-packages/IPython/core/interactiveshell.py\", line 1993, in showtraceback\n",
      "    stb = self.InteractiveTB.structured_traceback(\n",
      "  File \"/Users/adam/anaconda3/envs/pam08/lib/python3.9/site-packages/IPython/core/ultratb.py\", line 1118, in structured_traceback\n",
      "    return FormattedTB.structured_traceback(\n",
      "  File \"/Users/adam/anaconda3/envs/pam08/lib/python3.9/site-packages/IPython/core/ultratb.py\", line 1012, in structured_traceback\n",
      "    return VerboseTB.structured_traceback(\n",
      "  File \"/Users/adam/anaconda3/envs/pam08/lib/python3.9/site-packages/IPython/core/ultratb.py\", line 865, in structured_traceback\n",
      "    formatted_exception = self.format_exception_as_a_whole(etype, evalue, etb, number_of_lines_of_context,\n",
      "  File \"/Users/adam/anaconda3/envs/pam08/lib/python3.9/site-packages/IPython/core/ultratb.py\", line 818, in format_exception_as_a_whole\n",
      "    frames.append(self.format_record(r))\n",
      "  File \"/Users/adam/anaconda3/envs/pam08/lib/python3.9/site-packages/IPython/core/ultratb.py\", line 736, in format_record\n",
      "    result += ''.join(_format_traceback_lines(frame_info.lines, Colors, self.has_colors, lvals))\n",
      "  File \"/Users/adam/anaconda3/envs/pam08/lib/python3.9/site-packages/stack_data/utils.py\", line 145, in cached_property_wrapper\n",
      "    value = obj.__dict__[self.func.__name__] = self.func(obj)\n",
      "  File \"/Users/adam/anaconda3/envs/pam08/lib/python3.9/site-packages/stack_data/core.py\", line 698, in lines\n",
      "    pieces = self.included_pieces\n",
      "  File \"/Users/adam/anaconda3/envs/pam08/lib/python3.9/site-packages/stack_data/utils.py\", line 145, in cached_property_wrapper\n",
      "    value = obj.__dict__[self.func.__name__] = self.func(obj)\n",
      "  File \"/Users/adam/anaconda3/envs/pam08/lib/python3.9/site-packages/stack_data/core.py\", line 649, in included_pieces\n",
      "    pos = scope_pieces.index(self.executing_piece)\n",
      "  File \"/Users/adam/anaconda3/envs/pam08/lib/python3.9/site-packages/stack_data/utils.py\", line 145, in cached_property_wrapper\n",
      "    value = obj.__dict__[self.func.__name__] = self.func(obj)\n",
      "  File \"/Users/adam/anaconda3/envs/pam08/lib/python3.9/site-packages/stack_data/core.py\", line 628, in executing_piece\n",
      "    return only(\n",
      "  File \"/Users/adam/anaconda3/envs/pam08/lib/python3.9/site-packages/executing/executing.py\", line 164, in only\n",
      "    raise NotOneValueFound('Expected one value, found 0')\n",
      "executing.executing.NotOneValueFound: Expected one value, found 0\n"
     ]
    }
   ],
   "source": [
    "# Load custom model\n",
    "model = torch.hub.load('ultralytics/yolov5', 'custom', path='best.pt')"
   ]
  },
  {
   "cell_type": "code",
   "execution_count": null,
   "metadata": {
    "id": "lz-nSCStF52m",
    "pycharm": {
     "name": "#%%\n"
    }
   },
   "outputs": [],
   "source": [
    "'''\n",
    "Run inference on, and return a cell count for, the given image\n",
    "'''\n",
    "def detect(img: str):\n",
    "  # Run inference on the image\n",
    "  results = model(img)\n",
    "\n",
    "  # Get the DataFrame\n",
    "  df = results.pandas().xyxy\n",
    "\n",
    "  # Display the image\n",
    "  results.render()\n",
    "  cv2.imshow(\"Img\", results.imgs[0])\n",
    "  cv2.waitKey()\n",
    "  cv2.destroyAllWindows()\n",
    "  cv2.waitKey(1)\n",
    "\n",
    "  return df"
   ]
  },
  {
   "cell_type": "code",
   "execution_count": null,
   "metadata": {
    "id": "9bAUjtqU6PIZ",
    "colab": {
     "base_uri": "https://localhost:8080/",
     "height": 484
    },
    "outputId": "800fae05-9f11-4ecb-bfcd-99741dbc4c8e",
    "pycharm": {
     "name": "#%%\n"
    }
   },
   "outputs": [],
   "source": [
    "df1 = detect('data/bfmatcher/test_1.jpg')"
   ]
  },
  {
   "cell_type": "code",
   "execution_count": null,
   "metadata": {
    "id": "FlyWGYSijNLg",
    "colab": {
     "base_uri": "https://localhost:8080/",
     "height": 484
    },
    "outputId": "944a9c07-8615-4031-9016-a80579eeebec",
    "pycharm": {
     "name": "#%%\n"
    }
   },
   "outputs": [],
   "source": [
    "df2 = detect('data/bfmatcher/test_2.jpg')"
   ]
  },
  {
   "cell_type": "code",
   "execution_count": null,
   "metadata": {
    "id": "3-WgLyBGjNnY",
    "colab": {
     "base_uri": "https://localhost:8080/",
     "height": 674
    },
    "outputId": "53d40e7c-5778-46d1-eba9-59ce3664bbb5",
    "pycharm": {
     "name": "#%%\n"
    }
   },
   "outputs": [],
   "source": [
    "df3 = detect('data/bfmatcher/test_3.jpg')"
   ]
  },
  {
   "cell_type": "markdown",
   "metadata": {
    "id": "hgNXfGJ8DaTm",
    "pycharm": {
     "name": "#%% md\n"
    }
   },
   "source": [
    "## Matching"
   ]
  },
  {
   "cell_type": "code",
   "source": [
    "img1 = cv2.imread('dataset/images/test_1.jpg')\n",
    "print(img1.shape)\n",
    "img1 = img1[293:911, 1735:2220]\n",
    "\n",
    "img2 = cv2.imread('dataset/images/test_2.jpg')\n",
    "img2 = img2[271:898, 1497:1973]\n",
    "\n",
    "cv2.imshow(\"Image\", img1)\n",
    "cv2.waitKey()\n",
    "cv2.destroyAllWindows()\n",
    "cv2.waitKey(1)"
   ],
   "metadata": {
    "id": "n3Wa0TDnd4D7",
    "colab": {
     "base_uri": "https://localhost:8080/",
     "height": 253
    },
    "outputId": "a5a4922a-62e7-43a7-a9cb-4f3d0a093c52",
    "pycharm": {
     "name": "#%%\n"
    }
   },
   "execution_count": null,
   "outputs": []
  },
  {
   "cell_type": "code",
   "execution_count": null,
   "outputs": [],
   "source": [
    "orb = cv2.ORB_create()\n",
    "kp1, des1 = orb.detectAndCompute(img1, None)\n",
    "kp2, des2 = orb.detectAndCompute(img2, None)\n",
    "\n",
    "print(len(kp1))\n",
    "\n",
    "bf = cv2.BFMatcher(cv2.NORM_HAMMING, crossCheck=True)\n",
    "matches = bf.match(des1, des2)\n",
    "\n",
    "print(len(matches))\n",
    "\n",
    "for m in matches:\n",
    "  print(m.distance)\n",
    "\n",
    "match_result = cv2.drawMatches(img1, kp1, img2, kp2, matches, None)\n",
    "cv2.imshow(\"Image\", match_result)\n",
    "cv2.waitKey()\n",
    "cv2.destroyAllWindows()\n",
    "cv2.waitKey(1)"
   ],
   "metadata": {
    "collapsed": false,
    "pycharm": {
     "name": "#%%\n"
    }
   }
  }
 ],
 "metadata": {
  "accelerator": "GPU",
  "colab": {
   "collapsed_sections": [],
   "name": "Cowface",
   "provenance": []
  },
  "kernelspec": {
   "display_name": "Python 3",
   "name": "python3"
  },
  "language_info": {
   "name": "python"
  }
 },
 "nbformat": 4,
 "nbformat_minor": 0
}