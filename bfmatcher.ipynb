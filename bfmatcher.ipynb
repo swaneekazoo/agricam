{
 "cells": [
  {
   "cell_type": "markdown",
   "metadata": {
    "id": "SmRtlWmD3msd",
    "pycharm": {
     "name": "#%% md\n"
    }
   },
   "source": [
    "# BFMatcher `cowface` identification"
   ]
  },
  {
   "cell_type": "code",
   "execution_count": 1,
   "metadata": {
    "id": "p-BXt7gXsnZT",
    "pycharm": {
     "name": "#%%\n"
    }
   },
   "outputs": [],
   "source": [
    "import torch\n",
    "import cv2"
   ]
  },
  {
   "cell_type": "code",
   "execution_count": 2,
   "metadata": {
    "colab": {
     "base_uri": "https://localhost:8080/"
    },
    "id": "CF9nGL49YzkS",
    "outputId": "4396c4c7-bbe1-4182-dc98-8d6aec15b886",
    "pycharm": {
     "name": "#%%\n"
    }
   },
   "outputs": [
    {
     "name": "stderr",
     "output_type": "stream",
     "text": [
      "Using cache found in /Users/adam/.cache/torch/hub/ultralytics_yolov5_master\n",
      "YOLOv5 🚀 2022-8-2 Python-3.9.12 torch-1.12.0 CPU\n",
      "\n",
      "Fusing layers... \n",
      "Model summary: 213 layers, 7012822 parameters, 0 gradients, 15.8 GFLOPs\n",
      "Adding AutoShape... \n"
     ]
    }
   ],
   "source": [
    "# Load custom model\n",
    "model = torch.hub.load('ultralytics/yolov5', 'custom', path='best.pt')"
   ]
  },
  {
   "cell_type": "code",
   "execution_count": 3,
   "metadata": {
    "id": "lz-nSCStF52m",
    "pycharm": {
     "name": "#%%\n"
    }
   },
   "outputs": [],
   "source": [
    "'''\n",
    "Run inference on, and return a cell count for, the given image\n",
    "'''\n",
    "def detect(img: str):\n",
    "  # Run inference on the image\n",
    "  results = model(img)\n",
    "\n",
    "  # Get the DataFrame\n",
    "  df = results.pandas().xyxy\n",
    "\n",
    "  # Display the image\n",
    "  results.render()\n",
    "  cv2.imshow(\"Img\", results.imgs[0])\n",
    "  cv2.waitKey()\n",
    "  cv2.destroyAllWindows()\n",
    "  cv2.waitKey(1)\n",
    "\n",
    "  return df"
   ]
  },
  {
   "cell_type": "code",
   "execution_count": 4,
   "metadata": {
    "colab": {
     "base_uri": "https://localhost:8080/",
     "height": 484
    },
    "id": "9bAUjtqU6PIZ",
    "outputId": "800fae05-9f11-4ecb-bfcd-99741dbc4c8e",
    "pycharm": {
     "name": "#%%\n"
    }
   },
   "outputs": [],
   "source": [
    "df1 = detect('data/bfmatcher/test_1.jpg')"
   ]
  },
  {
   "cell_type": "code",
   "execution_count": 5,
   "metadata": {
    "colab": {
     "base_uri": "https://localhost:8080/",
     "height": 484
    },
    "id": "FlyWGYSijNLg",
    "outputId": "944a9c07-8615-4031-9016-a80579eeebec",
    "pycharm": {
     "name": "#%%\n"
    }
   },
   "outputs": [],
   "source": [
    "df2 = detect('data/bfmatcher/test_2.jpg')"
   ]
  },
  {
   "cell_type": "code",
   "execution_count": 6,
   "metadata": {
    "colab": {
     "base_uri": "https://localhost:8080/",
     "height": 674
    },
    "id": "3-WgLyBGjNnY",
    "outputId": "53d40e7c-5778-46d1-eba9-59ce3664bbb5",
    "pycharm": {
     "name": "#%%\n"
    }
   },
   "outputs": [],
   "source": [
    "df3 = detect('data/bfmatcher/test_3.jpg')"
   ]
  },
  {
   "cell_type": "markdown",
   "metadata": {
    "id": "hgNXfGJ8DaTm",
    "pycharm": {
     "name": "#%% md\n"
    }
   },
   "source": [
    "## Matching"
   ]
  },
  {
   "cell_type": "code",
   "execution_count": 8,
   "metadata": {
    "colab": {
     "base_uri": "https://localhost:8080/",
     "height": 253
    },
    "id": "n3Wa0TDnd4D7",
    "outputId": "a5a4922a-62e7-43a7-a9cb-4f3d0a093c52",
    "pycharm": {
     "name": "#%%\n"
    }
   },
   "outputs": [
    {
     "name": "stdout",
     "output_type": "stream",
     "text": [
      "(1520, 2688, 3)\n"
     ]
    },
    {
     "data": {
      "text/plain": [
       "-1"
      ]
     },
     "execution_count": 8,
     "metadata": {},
     "output_type": "execute_result"
    }
   ],
   "source": [
    "img1 = cv2.imread('data/bfmatcher/test_1.jpg')\n",
    "print(img1.shape)\n",
    "img1 = img1[293:911, 1735:2220]\n",
    "\n",
    "img2 = cv2.imread('data/bfmatcher/test_2.jpg')\n",
    "img2 = img2[271:898, 1497:1973]\n",
    "\n",
    "cv2.imshow(\"Image\", img1)\n",
    "cv2.waitKey()\n",
    "cv2.destroyAllWindows()\n",
    "cv2.waitKey(1)"
   ]
  },
  {
   "cell_type": "code",
   "execution_count": 9,
   "metadata": {
    "collapsed": false,
    "pycharm": {
     "name": "#%%\n"
    }
   },
   "outputs": [
    {
     "name": "stdout",
     "output_type": "stream",
     "text": [
      "0\n",
      "0\n"
     ]
    },
    {
     "data": {
      "text/plain": [
       "-1"
      ]
     },
     "execution_count": 9,
     "metadata": {},
     "output_type": "execute_result"
    }
   ],
   "source": [
    "orb = cv2.ORB_create()\n",
    "kp1, des1 = orb.detectAndCompute(img1, None)\n",
    "kp2, des2 = orb.detectAndCompute(img2, None)\n",
    "\n",
    "print(len(kp1))\n",
    "\n",
    "bf = cv2.BFMatcher(cv2.NORM_HAMMING, crossCheck=True)\n",
    "matches = bf.match(des1, des2)\n",
    "\n",
    "print(len(matches))\n",
    "\n",
    "for m in matches:\n",
    "  print(m.distance)\n",
    "\n",
    "match_result = cv2.drawMatches(img1, kp1, img2, kp2, matches, None)\n",
    "cv2.imshow(\"Image\", match_result)\n",
    "cv2.waitKey()\n",
    "cv2.destroyAllWindows()\n",
    "cv2.waitKey(1)"
   ]
  }
 ],
 "metadata": {
  "accelerator": "GPU",
  "colab": {
   "collapsed_sections": [],
   "name": "Cowface",
   "provenance": []
  },
  "kernelspec": {
   "display_name": "Python 3.8.9 64-bit",
   "language": "python",
   "name": "python3"
  },
  "language_info": {
   "name": "python",
   "version": "3.8.9"
  },
  "vscode": {
   "interpreter": {
    "hash": "31f2aee4e71d21fbe5cf8b01ff0e069b9275f58929596ceb00d14d90e3e16cd6"
   }
  }
 },
 "nbformat": 4,
 "nbformat_minor": 0
}
